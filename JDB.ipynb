{
 "cells": [
  {
   "cell_type": "markdown",
   "id": "1a8726d1",
   "metadata": {},
   "source": [
    "# JDB File"
   ]
  },
  {
   "cell_type": "markdown",
   "id": "60f735b7",
   "metadata": {},
   "source": [
    "Purpose- To aggregate daily means of the all four readers (A, B ,C and D) in the Johns files and find whether there are any missing days "
   ]
  },
  {
   "cell_type": "markdown",
   "id": "b2e2bea5",
   "metadata": {},
   "source": [
    "The actions and procedures outlined in this Python notebook are as follows:\n",
    "\n",
    "1. convert all the files into datetime format\n",
    "2. calculate  daily means and caliberate the four tempreture readers together\n",
    "3. Checking whether there are any missing days between the earliest and latest dates to make sure all the readers align\n",
    "\n",
    "\n"
   ]
  },
  {
   "cell_type": "code",
   "execution_count": 4,
   "id": "09182194",
   "metadata": {},
   "outputs": [
    {
     "data": {
      "text/plain": [
       "'C:\\\\Users\\\\samd7\\\\Downloads'"
      ]
     },
     "execution_count": 4,
     "metadata": {},
     "output_type": "execute_result"
    }
   ],
   "source": [
    "pwd()"
   ]
  },
  {
   "cell_type": "code",
   "execution_count": 7,
   "id": "bab6cd65",
   "metadata": {},
   "outputs": [],
   "source": [
    "import pandas as pd\n",
    "import numpy as np\n",
    "import pandas as pd\n",
    "import matplotlib.pyplot as plt\n",
    "from scipy import stats"
   ]
  },
  {
   "cell_type": "code",
   "execution_count": 9,
   "id": "da690e1c",
   "metadata": {},
   "outputs": [
    {
     "data": {
      "text/html": [
       "<div>\n",
       "<style scoped>\n",
       "    .dataframe tbody tr th:only-of-type {\n",
       "        vertical-align: middle;\n",
       "    }\n",
       "\n",
       "    .dataframe tbody tr th {\n",
       "        vertical-align: top;\n",
       "    }\n",
       "\n",
       "    .dataframe thead th {\n",
       "        text-align: right;\n",
       "    }\n",
       "</style>\n",
       "<table border=\"1\" class=\"dataframe\">\n",
       "  <thead>\n",
       "    <tr style=\"text-align: right;\">\n",
       "      <th></th>\n",
       "      <th>Property</th>\n",
       "      <th>Time</th>\n",
       "      <th>Temperature</th>\n",
       "    </tr>\n",
       "    <tr>\n",
       "      <th>Date</th>\n",
       "      <th></th>\n",
       "      <th></th>\n",
       "      <th></th>\n",
       "    </tr>\n",
       "  </thead>\n",
       "  <tbody>\n",
       "    <tr>\n",
       "      <th>2009-01-15</th>\n",
       "      <td>17</td>\n",
       "      <td>18:02:00</td>\n",
       "      <td>7.93505</td>\n",
       "    </tr>\n",
       "    <tr>\n",
       "      <th>2009-01-15</th>\n",
       "      <td>18</td>\n",
       "      <td>18:32:00</td>\n",
       "      <td>7.93974</td>\n",
       "    </tr>\n",
       "    <tr>\n",
       "      <th>2009-01-15</th>\n",
       "      <td>19</td>\n",
       "      <td>19:02:00</td>\n",
       "      <td>7.93348</td>\n",
       "    </tr>\n",
       "    <tr>\n",
       "      <th>2009-01-15</th>\n",
       "      <td>20</td>\n",
       "      <td>19:32:00</td>\n",
       "      <td>7.92566</td>\n",
       "    </tr>\n",
       "    <tr>\n",
       "      <th>2009-01-15</th>\n",
       "      <td>21</td>\n",
       "      <td>20:02:00</td>\n",
       "      <td>7.92254</td>\n",
       "    </tr>\n",
       "  </tbody>\n",
       "</table>\n",
       "</div>"
      ],
      "text/plain": [
       "            Property      Time  Temperature\n",
       "Date                                       \n",
       "2009-01-15        17  18:02:00      7.93505\n",
       "2009-01-15        18  18:32:00      7.93974\n",
       "2009-01-15        19  19:02:00      7.93348\n",
       "2009-01-15        20  19:32:00      7.92566\n",
       "2009-01-15        21  20:02:00      7.92254"
      ]
     },
     "execution_count": 9,
     "metadata": {},
     "output_type": "execute_result"
    }
   ],
   "source": [
    "df_A = pd.read_excel('Series A.xlsx')\n",
    "# Convert the 'Date' column to datetime format for time-based operations\n",
    "df_A['Date'] = pd.to_datetime(df_A['Date'])\n",
    "# Set the 'Date' column as the index of the dataframe for time series analysis\n",
    "df_A.set_index('Date', inplace=True)\n",
    "#the first few rows of the dataframe to inspect the result\n",
    "df_A.head()"
   ]
  },
  {
   "cell_type": "code",
   "execution_count": 10,
   "id": "724501be",
   "metadata": {},
   "outputs": [
    {
     "data": {
      "text/html": [
       "<div>\n",
       "<style scoped>\n",
       "    .dataframe tbody tr th:only-of-type {\n",
       "        vertical-align: middle;\n",
       "    }\n",
       "\n",
       "    .dataframe tbody tr th {\n",
       "        vertical-align: top;\n",
       "    }\n",
       "\n",
       "    .dataframe thead th {\n",
       "        text-align: right;\n",
       "    }\n",
       "</style>\n",
       "<table border=\"1\" class=\"dataframe\">\n",
       "  <thead>\n",
       "    <tr style=\"text-align: right;\">\n",
       "      <th></th>\n",
       "      <th>Property</th>\n",
       "      <th>Time</th>\n",
       "      <th>Temperature</th>\n",
       "    </tr>\n",
       "    <tr>\n",
       "      <th>Date</th>\n",
       "      <th></th>\n",
       "      <th></th>\n",
       "      <th></th>\n",
       "    </tr>\n",
       "  </thead>\n",
       "  <tbody>\n",
       "    <tr>\n",
       "      <th>2009-01-15</th>\n",
       "      <td>17</td>\n",
       "      <td>18:01:00</td>\n",
       "      <td>7.91628</td>\n",
       "    </tr>\n",
       "    <tr>\n",
       "      <th>2009-01-15</th>\n",
       "      <td>18</td>\n",
       "      <td>18:31:00</td>\n",
       "      <td>7.92097</td>\n",
       "    </tr>\n",
       "    <tr>\n",
       "      <th>2009-01-15</th>\n",
       "      <td>19</td>\n",
       "      <td>19:01:00</td>\n",
       "      <td>7.91784</td>\n",
       "    </tr>\n",
       "    <tr>\n",
       "      <th>2009-01-15</th>\n",
       "      <td>20</td>\n",
       "      <td>19:31:00</td>\n",
       "      <td>7.91159</td>\n",
       "    </tr>\n",
       "    <tr>\n",
       "      <th>2009-01-15</th>\n",
       "      <td>21</td>\n",
       "      <td>20:01:00</td>\n",
       "      <td>7.90846</td>\n",
       "    </tr>\n",
       "  </tbody>\n",
       "</table>\n",
       "</div>"
      ],
      "text/plain": [
       "            Property      Time  Temperature\n",
       "Date                                       \n",
       "2009-01-15        17  18:01:00      7.91628\n",
       "2009-01-15        18  18:31:00      7.92097\n",
       "2009-01-15        19  19:01:00      7.91784\n",
       "2009-01-15        20  19:31:00      7.91159\n",
       "2009-01-15        21  20:01:00      7.90846"
      ]
     },
     "execution_count": 10,
     "metadata": {},
     "output_type": "execute_result"
    }
   ],
   "source": [
    "df_B = pd.read_excel('Series B.xlsx')\n",
    "df_B['Date'] = pd.to_datetime(df_B['Date'])\n",
    "df_B.set_index('Date', inplace=True)\n",
    "df_B.head()"
   ]
  },
  {
   "cell_type": "code",
   "execution_count": 11,
   "id": "690071cd",
   "metadata": {},
   "outputs": [
    {
     "data": {
      "text/html": [
       "<div>\n",
       "<style scoped>\n",
       "    .dataframe tbody tr th:only-of-type {\n",
       "        vertical-align: middle;\n",
       "    }\n",
       "\n",
       "    .dataframe tbody tr th {\n",
       "        vertical-align: top;\n",
       "    }\n",
       "\n",
       "    .dataframe thead th {\n",
       "        text-align: right;\n",
       "    }\n",
       "</style>\n",
       "<table border=\"1\" class=\"dataframe\">\n",
       "  <thead>\n",
       "    <tr style=\"text-align: right;\">\n",
       "      <th></th>\n",
       "      <th>Time</th>\n",
       "      <th>Temperature</th>\n",
       "    </tr>\n",
       "    <tr>\n",
       "      <th>Date</th>\n",
       "      <th></th>\n",
       "      <th></th>\n",
       "    </tr>\n",
       "  </thead>\n",
       "  <tbody>\n",
       "    <tr>\n",
       "      <th>2016-10-15</th>\n",
       "      <td>13:31:00</td>\n",
       "      <td>12.66798</td>\n",
       "    </tr>\n",
       "    <tr>\n",
       "      <th>2016-10-15</th>\n",
       "      <td>14:01:00</td>\n",
       "      <td>12.72232</td>\n",
       "    </tr>\n",
       "    <tr>\n",
       "      <th>2016-10-15</th>\n",
       "      <td>14:31:00</td>\n",
       "      <td>12.72835</td>\n",
       "    </tr>\n",
       "    <tr>\n",
       "      <th>2016-10-15</th>\n",
       "      <td>15:01:00</td>\n",
       "      <td>12.68458</td>\n",
       "    </tr>\n",
       "    <tr>\n",
       "      <th>2016-10-15</th>\n",
       "      <td>15:31:00</td>\n",
       "      <td>12.61212</td>\n",
       "    </tr>\n",
       "  </tbody>\n",
       "</table>\n",
       "</div>"
      ],
      "text/plain": [
       "                Time  Temperature\n",
       "Date                             \n",
       "2016-10-15  13:31:00     12.66798\n",
       "2016-10-15  14:01:00     12.72232\n",
       "2016-10-15  14:31:00     12.72835\n",
       "2016-10-15  15:01:00     12.68458\n",
       "2016-10-15  15:31:00     12.61212"
      ]
     },
     "execution_count": 11,
     "metadata": {},
     "output_type": "execute_result"
    }
   ],
   "source": [
    "df_C = pd.read_excel('Series C.xlsx')\n",
    "df_C['Date'] = pd.to_datetime(df_C['Date'])\n",
    "df_C.set_index('Date', inplace=True)\n",
    "df_C.head()"
   ]
  },
  {
   "cell_type": "code",
   "execution_count": 13,
   "id": "f9079384",
   "metadata": {},
   "outputs": [
    {
     "data": {
      "text/html": [
       "<div>\n",
       "<style scoped>\n",
       "    .dataframe tbody tr th:only-of-type {\n",
       "        vertical-align: middle;\n",
       "    }\n",
       "\n",
       "    .dataframe tbody tr th {\n",
       "        vertical-align: top;\n",
       "    }\n",
       "\n",
       "    .dataframe thead th {\n",
       "        text-align: right;\n",
       "    }\n",
       "</style>\n",
       "<table border=\"1\" class=\"dataframe\">\n",
       "  <thead>\n",
       "    <tr style=\"text-align: right;\">\n",
       "      <th></th>\n",
       "      <th>Property</th>\n",
       "      <th>Time</th>\n",
       "      <th>Temperature</th>\n",
       "    </tr>\n",
       "    <tr>\n",
       "      <th>Date</th>\n",
       "      <th></th>\n",
       "      <th></th>\n",
       "      <th></th>\n",
       "    </tr>\n",
       "  </thead>\n",
       "  <tbody>\n",
       "    <tr>\n",
       "      <th>2014-06-15</th>\n",
       "      <td>1</td>\n",
       "      <td>18:01:00</td>\n",
       "      <td>25.60425</td>\n",
       "    </tr>\n",
       "    <tr>\n",
       "      <th>2014-06-15</th>\n",
       "      <td>2</td>\n",
       "      <td>18:31:00</td>\n",
       "      <td>24.74056</td>\n",
       "    </tr>\n",
       "    <tr>\n",
       "      <th>2014-06-15</th>\n",
       "      <td>3</td>\n",
       "      <td>19:01:00</td>\n",
       "      <td>17.45481</td>\n",
       "    </tr>\n",
       "    <tr>\n",
       "      <th>2014-06-15</th>\n",
       "      <td>4</td>\n",
       "      <td>19:31:00</td>\n",
       "      <td>16.97423</td>\n",
       "    </tr>\n",
       "    <tr>\n",
       "      <th>2014-06-15</th>\n",
       "      <td>5</td>\n",
       "      <td>20:01:00</td>\n",
       "      <td>16.94595</td>\n",
       "    </tr>\n",
       "  </tbody>\n",
       "</table>\n",
       "</div>"
      ],
      "text/plain": [
       "            Property      Time  Temperature\n",
       "Date                                       \n",
       "2014-06-15         1  18:01:00     25.60425\n",
       "2014-06-15         2  18:31:00     24.74056\n",
       "2014-06-15         3  19:01:00     17.45481\n",
       "2014-06-15         4  19:31:00     16.97423\n",
       "2014-06-15         5  20:01:00     16.94595"
      ]
     },
     "execution_count": 13,
     "metadata": {},
     "output_type": "execute_result"
    }
   ],
   "source": [
    "df_D = pd.read_excel('Series D.xls')\n",
    "df_D['Date'] = pd.to_datetime(df_D['Date'])\n",
    "df_D.set_index('Date', inplace=True)\n",
    "df_D.head()"
   ]
  },
  {
   "cell_type": "code",
   "execution_count": 14,
   "id": "7cbfbf65",
   "metadata": {},
   "outputs": [
    {
     "data": {
      "text/html": [
       "<div>\n",
       "<style scoped>\n",
       "    .dataframe tbody tr th:only-of-type {\n",
       "        vertical-align: middle;\n",
       "    }\n",
       "\n",
       "    .dataframe tbody tr th {\n",
       "        vertical-align: top;\n",
       "    }\n",
       "\n",
       "    .dataframe thead th {\n",
       "        text-align: right;\n",
       "    }\n",
       "</style>\n",
       "<table border=\"1\" class=\"dataframe\">\n",
       "  <thead>\n",
       "    <tr style=\"text-align: right;\">\n",
       "      <th></th>\n",
       "      <th>index</th>\n",
       "      <th>Temperature</th>\n",
       "      <th>Temperature</th>\n",
       "      <th>Temperature</th>\n",
       "      <th>Temperature</th>\n",
       "      <th>Population Mean</th>\n",
       "    </tr>\n",
       "  </thead>\n",
       "  <tbody>\n",
       "    <tr>\n",
       "      <th>0</th>\n",
       "      <td>2009-01-15</td>\n",
       "      <td>7.911977</td>\n",
       "      <td>7.893988</td>\n",
       "      <td>NaN</td>\n",
       "      <td>NaN</td>\n",
       "      <td>7.902983</td>\n",
       "    </tr>\n",
       "    <tr>\n",
       "      <th>1</th>\n",
       "      <td>2009-01-16</td>\n",
       "      <td>8.264485</td>\n",
       "      <td>8.246459</td>\n",
       "      <td>NaN</td>\n",
       "      <td>NaN</td>\n",
       "      <td>8.255472</td>\n",
       "    </tr>\n",
       "    <tr>\n",
       "      <th>2</th>\n",
       "      <td>2009-01-17</td>\n",
       "      <td>8.679245</td>\n",
       "      <td>8.661384</td>\n",
       "      <td>NaN</td>\n",
       "      <td>NaN</td>\n",
       "      <td>8.670314</td>\n",
       "    </tr>\n",
       "    <tr>\n",
       "      <th>3</th>\n",
       "      <td>2009-01-18</td>\n",
       "      <td>7.780242</td>\n",
       "      <td>7.763765</td>\n",
       "      <td>NaN</td>\n",
       "      <td>NaN</td>\n",
       "      <td>7.772004</td>\n",
       "    </tr>\n",
       "    <tr>\n",
       "      <th>4</th>\n",
       "      <td>2009-01-19</td>\n",
       "      <td>6.784125</td>\n",
       "      <td>6.768368</td>\n",
       "      <td>NaN</td>\n",
       "      <td>NaN</td>\n",
       "      <td>6.776246</td>\n",
       "    </tr>\n",
       "  </tbody>\n",
       "</table>\n",
       "</div>"
      ],
      "text/plain": [
       "       index  Temperature  Temperature  Temperature  Temperature  \\\n",
       "0 2009-01-15     7.911977     7.893988          NaN          NaN   \n",
       "1 2009-01-16     8.264485     8.246459          NaN          NaN   \n",
       "2 2009-01-17     8.679245     8.661384          NaN          NaN   \n",
       "3 2009-01-18     7.780242     7.763765          NaN          NaN   \n",
       "4 2009-01-19     6.784125     6.768368          NaN          NaN   \n",
       "\n",
       "   Population Mean  \n",
       "0         7.902983  \n",
       "1         8.255472  \n",
       "2         8.670314  \n",
       "3         7.772004  \n",
       "4         6.776246  "
      ]
     },
     "execution_count": 14,
     "metadata": {},
     "output_type": "execute_result"
    }
   ],
   "source": [
    "# Create a list of dataframes representing different populations \n",
    "population_dataframes_JDB = [df_A, df_B, df_C, df_D] \n",
    "# Create an empty dataframe to store daily mean temperatures for each population\n",
    "population_daily_mean_temperatures_JDB = pd.DataFrame()\n",
    "\n",
    "# Iterate through each dataframe in the population_dataframes list\n",
    "for df in population_dataframes_JDB:\n",
    "    # Calculate the daily mean temperature by resampling the 'Temperature' column to daily frequency\n",
    "    daily_mean_JDB = df['Temperature'].resample('D').mean() \n",
    "    # Concatenate the daily mean temperature series to the population_daily_mean_temperatures dataframe\n",
    "    population_daily_mean_temperatures_JDB = pd.concat([population_daily_mean_temperatures_JDB, daily_mean_JDB], axis=1)\n",
    "    \n",
    "# Calculate the overall daily mean temperature for all populations and add it as a new column\n",
    "population_daily_mean_temperatures_JDB['Population Mean'] = population_daily_mean_temperatures_JDB.mean(axis=1)\n",
    "# Reset the index of the dataframe to have a clean index column\n",
    "population_daily_mean_temperatures_JDB.reset_index(inplace=True)\n",
    "#resulting dataframe containing daily mean temperatures for each population\n",
    "population_daily_mean_temperatures_JDB.head()"
   ]
  },
  {
   "cell_type": "code",
   "execution_count": 45,
   "id": "f818c3c4",
   "metadata": {},
   "outputs": [
    {
     "name": "stdout",
     "output_type": "stream",
     "text": [
      "Number of Days: 5273\n",
      "Number of Population Mean Values: 5273\n"
     ]
    }
   ],
   "source": [
    "\n",
    "\n",
    "# Get the number of days\n",
    "num_days = len(population_daily_mean_temperatures_JDB)\n",
    "\n",
    "# Get the number of population mean values (excluding NaN)\n",
    "num_population_means = population_daily_mean_temperatures_JDB['Population Mean'].count()\n",
    "\n",
    "print(\"Number of Days:\", num_days)\n",
    "print(\"Number of Population Mean Values:\", num_population_means)\n"
   ]
  },
  {
   "cell_type": "code",
   "execution_count": 44,
   "id": "6a53cf2b",
   "metadata": {},
   "outputs": [
    {
     "name": "stdout",
     "output_type": "stream",
     "text": [
      "There are no date gaps between 2009-01-15 00:00:00 and 2023-06-23 00:00:00.\n"
     ]
    }
   ],
   "source": [
    "\n",
    "\n",
    "# Your code to create the DataFrame population_daily_mean_temperatures_JDB here\n",
    "\n",
    "# Define the date range you want to check\n",
    "start_date = pd.to_datetime('2009-01-15')\n",
    "end_date = pd.to_datetime('2023-06-23')\n",
    "\n",
    "# Create a date range within the specified range\n",
    "expected_dates = pd.date_range(start=start_date, end=end_date)\n",
    "\n",
    "# Get the existing dates in the DataFrame\n",
    "existing_dates = population_daily_mean_temperatures_JDB['index']\n",
    "\n",
    "# Find the missing dates (date gaps)\n",
    "missing_dates = expected_dates[~expected_dates.isin(existing_dates)]\n",
    "\n",
    "if missing_dates.empty:\n",
    "    print(\"There are no date gaps between {} and {}.\".format(start_date, end_date))\n",
    "else:\n",
    "    print(\"Date gaps found between {} and {}:\".format(start_date, end_date))\n",
    "    print(missing_dates)\n"
   ]
  },
  {
   "cell_type": "code",
   "execution_count": 47,
   "id": "e7f9419d",
   "metadata": {},
   "outputs": [
    {
     "name": "stdout",
     "output_type": "stream",
     "text": [
      "There are no missing values\n"
     ]
    }
   ],
   "source": [
    "# Check if there are missing values in the 'Population Mean' column\n",
    "has_missing_values_in_population_mean = population_daily_mean_temperatures_JBD['Population Mean'].isnull().any()\n",
    "\n",
    "if has_missing_values_in_population_mean:\n",
    "    print(\"There are missing values\")\n",
    "else:\n",
    "    print(\"There are no missing values\")"
   ]
  },
  {
   "cell_type": "code",
   "execution_count": null,
   "id": "df18e9ec",
   "metadata": {},
   "outputs": [],
   "source": []
  },
  {
   "cell_type": "code",
   "execution_count": null,
   "id": "4b921cc8",
   "metadata": {},
   "outputs": [],
   "source": [
    "\n"
   ]
  },
  {
   "cell_type": "code",
   "execution_count": null,
   "id": "dfc0ea9b",
   "metadata": {},
   "outputs": [],
   "source": []
  }
 ],
 "metadata": {
  "kernelspec": {
   "display_name": "Python 3 (ipykernel)",
   "language": "python",
   "name": "python3"
  },
  "language_info": {
   "codemirror_mode": {
    "name": "ipython",
    "version": 3
   },
   "file_extension": ".py",
   "mimetype": "text/x-python",
   "name": "python",
   "nbconvert_exporter": "python",
   "pygments_lexer": "ipython3",
   "version": "3.9.13"
  }
 },
 "nbformat": 4,
 "nbformat_minor": 5
}
